{
 "cells": [
  {
   "cell_type": "code",
   "execution_count": 139,
   "metadata": {},
   "outputs": [
    {
     "name": "stdout",
     "output_type": "stream",
     "text": [
      "hello\n"
     ]
    }
   ],
   "source": [
    "print(\"hello\")"
   ]
  },
  {
   "cell_type": "code",
   "execution_count": 140,
   "metadata": {},
   "outputs": [
    {
     "name": "stdout",
     "output_type": "stream",
     "text": [
      "['apple', 'orange', 'banana']\n"
     ]
    }
   ],
   "source": [
    "fruits= [\"apple\",\"orange\",\"banana\"]\n",
    "print(fruits) #create a list with the 3 given fruits."
   ]
  },
  {
   "cell_type": "code",
   "execution_count": 141,
   "metadata": {},
   "outputs": [
    {
     "name": "stdout",
     "output_type": "stream",
     "text": [
      "['orange', 'banana', 'tomato']\n"
     ]
    }
   ],
   "source": [
    "fruits.append(\"tomato\")\n",
    "fruits.remove(\"apple\")\n",
    "print(fruits) #Add tomato, remove apple and print the list out."
   ]
  },
  {
   "cell_type": "code",
   "execution_count": 142,
   "metadata": {},
   "outputs": [
    {
     "name": "stdout",
     "output_type": "stream",
     "text": [
      "('physics', 'chemistry', 'english', 'math', 'biology')\n"
     ]
    }
   ],
   "source": [
    "subjects= (\"physics\", \"chemistry\", \"english\", \"math\", \"biology\")\n",
    "print(subjects) #create a list of the various subjects."
   ]
  },
  {
   "cell_type": "code",
   "execution_count": 143,
   "metadata": {},
   "outputs": [
    {
     "ename": "AttributeError",
     "evalue": "'tuple' object has no attribute 'append'",
     "output_type": "error",
     "traceback": [
      "\u001b[0;31m---------------------------------------------------------------------------\u001b[0m",
      "\u001b[0;31mAttributeError\u001b[0m                            Traceback (most recent call last)",
      "Cell \u001b[0;32mIn[143], line 1\u001b[0m\n\u001b[0;32m----> 1\u001b[0m \u001b[43msubjects\u001b[49m\u001b[38;5;241;43m.\u001b[39;49m\u001b[43mappend\u001b[49m(\u001b[38;5;124m\"\u001b[39m\u001b[38;5;124mliterature\u001b[39m\u001b[38;5;124m\"\u001b[39m) \u001b[38;5;66;03m#tried to add on another subject to the tuple using append but you cannot append a tuple.\u001b[39;00m\n",
      "\u001b[0;31mAttributeError\u001b[0m: 'tuple' object has no attribute 'append'"
     ]
    }
   ],
   "source": [
    "subjects.append(\"literature\") #tried to add on another subject to the tuple using append but you cannot append a tuple."
   ]
  },
  {
   "cell_type": "code",
   "execution_count": 19,
   "metadata": {},
   "outputs": [
    {
     "data": {
      "text/plain": [
       "tuple"
      ]
     },
     "execution_count": 19,
     "metadata": {},
     "output_type": "execute_result"
    }
   ],
   "source": [
    "type(subjects) #checking that it is a tuple\n"
   ]
  },
  {
   "cell_type": "code",
   "execution_count": 23,
   "metadata": {},
   "outputs": [
    {
     "name": "stdout",
     "output_type": "stream",
     "text": [
      "('physics', 'chemistry', 'english', 'math', 'biology', 'literature', 'literature')\n"
     ]
    }
   ],
   "source": [
    "subjects = subjects + (\"literature\",) #convert a string to a single element tuple by adding a ,\n",
    "print(subjects)"
   ]
  },
  {
   "cell_type": "code",
   "execution_count": 27,
   "metadata": {},
   "outputs": [
    {
     "name": "stdout",
     "output_type": "stream",
     "text": [
      "7\n"
     ]
    }
   ],
   "source": [
    "count = len(subjects)\n",
    "print(count) #somehow excluding the count part of the formula works too but apparently i cant bring up the number in future."
   ]
  },
  {
   "cell_type": "code",
   "execution_count": 39,
   "metadata": {},
   "outputs": [
    {
     "name": "stdout",
     "output_type": "stream",
     "text": [
      "[10, 6, 7, 8, 9, 3]\n"
     ]
    }
   ],
   "source": [
    "students_id=[10,6,7,8,9,3]\n",
    "print(students_id)\n"
   ]
  },
  {
   "cell_type": "code",
   "execution_count": 47,
   "metadata": {},
   "outputs": [
    {
     "name": "stdout",
     "output_type": "stream",
     "text": [
      "[3, 6, 7, 8, 9, 10]\n",
      "[10, 9, 8, 7, 6, 3]\n"
     ]
    }
   ],
   "source": [
    "sorted_students_id=sorted(students_id) #tied the new name to a sorting function\n",
    "print(sorted_students_id) #printed out the ascending function\n",
    "sorted_students_id.reverse() #reversed the output to get descending\n",
    "print(sorted_students_id) # print descending function\n"
   ]
  },
  {
   "cell_type": "code",
   "execution_count": 48,
   "metadata": {},
   "outputs": [
    {
     "name": "stdout",
     "output_type": "stream",
     "text": [
      "[]\n"
     ]
    }
   ],
   "source": [
    "sorted_students_id.clear() #tied the descending function to a clearing function\n",
    "print(sorted_students_id) #print cleared function"
   ]
  },
  {
   "cell_type": "code",
   "execution_count": 58,
   "metadata": {},
   "outputs": [
    {
     "name": "stdout",
     "output_type": "stream",
     "text": [
      "[15, 12, 9, 6, 3]\n"
     ]
    }
   ],
   "source": [
    "desc_list = list(range(15,1,-3))\n",
    "print(desc_list)"
   ]
  },
  {
   "cell_type": "code",
   "execution_count": 59,
   "metadata": {},
   "outputs": [
    {
     "name": "stdout",
     "output_type": "stream",
     "text": [
      "[2, 4, 6, 8, 10, 12, 14, 16, 18, 20, 22, 24, 26, 28]\n"
     ]
    }
   ],
   "source": [
    "asc_list = list(range(2,2*14+1,2))\n",
    "print(asc_list)"
   ]
  },
  {
   "cell_type": "code",
   "execution_count": 62,
   "metadata": {},
   "outputs": [
    {
     "name": "stdout",
     "output_type": "stream",
     "text": [
      "[15, 12, 9, 6, 3, 2, 4, 6, 8, 10, 12, 14, 16, 18, 20, 22, 24, 26, 28]\n"
     ]
    },
    {
     "data": {
      "text/plain": [
       "[2, 3, 4, 6, 6, 8, 9, 10, 12, 12, 14, 15, 16, 18, 20, 22, 24, 26, 28]"
      ]
     },
     "execution_count": 62,
     "metadata": {},
     "output_type": "execute_result"
    }
   ],
   "source": [
    "combined_list=desc_list+asc_list\n",
    "print(combined_list)\n",
    "sorted(combined_list)\n"
   ]
  },
  {
   "cell_type": "code",
   "execution_count": 95,
   "metadata": {},
   "outputs": [
    {
     "name": "stdout",
     "output_type": "stream",
     "text": [
      "[12, 6, 2, 4, 6, 8, 10, 12, 14, 16, 18, 20, 22, 24, 26, 28]\n",
      "[15, 9, 3]\n"
     ]
    }
   ],
   "source": [
    "for num in combined_list:\n",
    "    even_numbers=[]\n",
    "    odd_numbers=[]\n",
    "\n",
    "    for num in combined_list:\n",
    "        if num % 2 == 0:\n",
    "         even_numbers.append(num)\n",
    "        else:\n",
    "          odd_numbers.append(num)\n",
    "print(even_numbers)\n",
    "print(odd_numbers)"
   ]
  },
  {
   "cell_type": "code",
   "execution_count": 115,
   "metadata": {},
   "outputs": [
    {
     "name": "stdout",
     "output_type": "stream",
     "text": [
      "radius, 24.00\n",
      "area, 1809.56\n",
      "circumference,150.80\n"
     ]
    }
   ],
   "source": [
    "import math \n",
    "\n",
    "def circle_properties(radius):\n",
    "    area= math.pi * (radius**2)\n",
    "    circumference = 2 * math.pi * radius\n",
    "    return area,circumference\n",
    "\n",
    "\n",
    "radius= 24\n",
    "area, circumference =circle_properties (radius)\n",
    "print(f\"radius, {radius:.2f}\")\n",
    "print(f\"area, {area:.2f}\")\n",
    "print(f\"circumference,{circumference:.2f}\")\n",
    "\n",
    "\n",
    "    "
   ]
  },
  {
   "cell_type": "code",
   "execution_count": 123,
   "metadata": {},
   "outputs": [
    {
     "name": "stdout",
     "output_type": "stream",
     "text": [
      "Question: how will i do for exams if i join DAC\n",
      "Response: resit\n"
     ]
    }
   ],
   "source": [
    "import random #telling the system that i wanna have random generation\n",
    "\n",
    "def grades_predictor(): #starting a code to do magic 8 ball stuff\n",
    "    responses=[\n",
    "        \"A\",\"B\",\"C\",\"D\",\"E\", \"resit\", \"just drop out\"\n",
    "     ] #input the possible responses\n",
    "    return random.choice(responses) #telling the system to give me a random response\n",
    "\n",
    "question = \"how will i do for exams if i join DAC\"\n",
    "answer = grades_predictor() #telling the system to give the response after a question\n",
    "\n",
    "print(f\"Question: {question}\") #telling the machine the formatting of the output\n",
    "print(f\"Response: {answer}\")\n",
    "\n",
    "    \n"
   ]
  },
  {
   "cell_type": "code",
   "execution_count": 161,
   "metadata": {},
   "outputs": [
    {
     "name": "stdout",
     "output_type": "stream",
     "text": [
      "{'Alice': 85, 'Bob': 90, 'Charlie': 78}\n",
      "{'Alice': 85, 'Bob': 90, 'Charlie': 78, 'David': 92}\n",
      "{'Alice': 88, 'Bob': 90, 'Charlie': 78, 'David': 92}\n"
     ]
    }
   ],
   "source": [
    "student_grades= {\n",
    "    \"Alice\": 85,\n",
    "    \"Bob\": 90,\n",
    "    \"Charlie\": 78,\n",
    "}\n",
    "type(student_grades)\n",
    "\n",
    "print(student_grades)\n",
    "\n",
    "student_grades[\"David\"]=92\n",
    "print(student_grades)\n",
    "\n",
    "student_grades[\"Alice\"]=88\n",
    "print(student_grades)"
   ]
  },
  {
   "cell_type": "code",
   "execution_count": 166,
   "metadata": {},
   "outputs": [
    {
     "name": "stdout",
     "output_type": "stream",
     "text": [
      "['apple', 'banana', 'apple', 'orange', 'banana', 'apple']\n",
      "{6}\n"
     ]
    }
   ],
   "source": [
    "list=[\"apple\",\"banana\",\"apple\",\"orange\",\"banana\",\"apple\"]\n",
    "print(list)\n",
    "\n",
    "fruit_count={\n",
    "    len(list)\n",
    "}\n",
    "\n",
    "print(fruit_count)"
   ]
  },
  {
   "cell_type": "markdown",
   "metadata": {},
   "source": []
  }
 ],
 "metadata": {
  "kernelspec": {
   "display_name": "Python 3",
   "language": "python",
   "name": "python3"
  },
  "language_info": {
   "codemirror_mode": {
    "name": "ipython",
    "version": 3
   },
   "file_extension": ".py",
   "mimetype": "text/x-python",
   "name": "python",
   "nbconvert_exporter": "python",
   "pygments_lexer": "ipython3",
   "version": "3.9.6"
  }
 },
 "nbformat": 4,
 "nbformat_minor": 2
}
